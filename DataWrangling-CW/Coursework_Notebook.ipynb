{
 "cells": [
  {
   "cell_type": "code",
   "execution_count": 1,
   "metadata": {},
   "outputs": [],
   "source": [
    "import pandas as pd\n",
    "import numpy as np\n",
    "import re, string\n",
    "import nltk\n",
    "from nltk.corpus import stopwords\n",
    "from nltk import word_tokenize, WordNetLemmatizer\n",
    "import matplotlib.pyplot as plt\n",
    "from nltk.corpus import stopwords\n",
    "from keras.preprocessing.text import Tokenizer\n",
    "from keras.backend import clear_session\n",
    "from gensim import models\n",
    "\n",
    " \n",
    "from numpy import zeros, asarray, array\n",
    "from keras import layers\n",
    "from keras.preprocessing.text import one_hot\n",
    "from keras.preprocessing.sequence import pad_sequences\n",
    "from keras.models import Sequential, Model\n",
    "from keras.layers.core import Activation, Dropout, Dense\n",
    "from keras.layers import Flatten, Input, Conv1D, concatenate\n",
    "from keras.layers import GlobalMaxPooling1D, MaxPooling1D \n",
    "from keras.layers.embeddings import Embedding\n",
    "from keras.wrappers.scikit_learn import KerasClassifier\n",
    "from sklearn.model_selection import RandomizedSearchCV\n",
    "from sklearn.model_selection import train_test_split\n",
    "from keras.preprocessing.text import Tokenizer"
   ]
  },
  {
   "cell_type": "code",
   "execution_count": 2,
   "metadata": {},
   "outputs": [],
   "source": [
    "#loading plots to used later in graphing the model performance\n",
    "plt.style.use('ggplot')\n",
    "\n",
    "def plot_history(history):\n",
    "    acc = history.history['accuracy']\n",
    "    val_acc = history.history['val_accuracy']\n",
    "    loss = history.history['loss']\n",
    "    val_loss = history.history['val_loss']\n",
    "    x = range(1, len(acc) + 1)\n",
    "\n",
    "    plt.figure(figsize=(12, 5))\n",
    "    plt.subplot(1, 2, 1)\n",
    "    plt.plot(x, acc, 'b', label='Training acc')\n",
    "    plt.plot(x, val_acc, 'r', label='Validation acc')\n",
    "    plt.title('Training and validation accuracy')\n",
    "    plt.legend()\n",
    "    plt.subplot(1, 2, 2)\n",
    "    plt.plot(x, loss, 'b', label='Training loss')\n",
    "    plt.plot(x, val_loss, 'r', label='Validation loss')\n",
    "    plt.title('Training and validation loss')\n",
    "    plt.legend()\n"
   ]
  },
  {
   "cell_type": "code",
   "execution_count": 3,
   "metadata": {},
   "outputs": [
    {
     "data": {
      "text/html": [
       "<div>\n",
       "<style scoped>\n",
       "    .dataframe tbody tr th:only-of-type {\n",
       "        vertical-align: middle;\n",
       "    }\n",
       "\n",
       "    .dataframe tbody tr th {\n",
       "        vertical-align: top;\n",
       "    }\n",
       "\n",
       "    .dataframe thead th {\n",
       "        text-align: right;\n",
       "    }\n",
       "</style>\n",
       "<table border=\"1\" class=\"dataframe\">\n",
       "  <thead>\n",
       "    <tr style=\"text-align: right;\">\n",
       "      <th></th>\n",
       "      <th>text</th>\n",
       "      <th>label</th>\n",
       "    </tr>\n",
       "  </thead>\n",
       "  <tbody>\n",
       "    <tr>\n",
       "      <th>0</th>\n",
       "      <td>note : some may consider portions of the follo...</td>\n",
       "      <td>1</td>\n",
       "    </tr>\n",
       "    <tr>\n",
       "      <th>1</th>\n",
       "      <td>note : some may consider portions of the follo...</td>\n",
       "      <td>1</td>\n",
       "    </tr>\n",
       "    <tr>\n",
       "      <th>2</th>\n",
       "      <td>every once in a while you see a film that is s...</td>\n",
       "      <td>1</td>\n",
       "    </tr>\n",
       "    <tr>\n",
       "      <th>3</th>\n",
       "      <td>when i was growing up in 1970s , boys in my sc...</td>\n",
       "      <td>1</td>\n",
       "    </tr>\n",
       "    <tr>\n",
       "      <th>4</th>\n",
       "      <td>the muppet movie is the first , and the best m...</td>\n",
       "      <td>1</td>\n",
       "    </tr>\n",
       "  </tbody>\n",
       "</table>\n",
       "</div>"
      ],
      "text/plain": [
       "                                                text  label\n",
       "0  note : some may consider portions of the follo...      1\n",
       "1  note : some may consider portions of the follo...      1\n",
       "2  every once in a while you see a film that is s...      1\n",
       "3  when i was growing up in 1970s , boys in my sc...      1\n",
       "4  the muppet movie is the first , and the best m...      1"
      ]
     },
     "execution_count": 3,
     "metadata": {},
     "output_type": "execute_result"
    }
   ],
   "source": [
    "train_data, test_data = pd.read_csv('data/train.csv', header = None, delimiter=','), pd.read_csv('data/test.csv', header = None, delimiter=',')\n",
    "train_data.columns, test_data.columns = ['text','label'], ['text','label']\n",
    "\n",
    "#train, test = train.replace({'lable': {1: 'True', 0: 'False'}}), test.replace({'lable': {1: 'True', 0: 'False'}})\n",
    "train_data.head(5)"
   ]
  },
  {
   "cell_type": "code",
   "execution_count": 4,
   "metadata": {},
   "outputs": [
    {
     "data": {
      "text/plain": [
       "'note : some may consider portions of the following text to be spoilers .  be forewarned .  among my fanatical ticker tape-worshipping friends , there\\'s one who happens to share the same philosophy espoused by the central character in darren aronofsky\\'s darkly original pi : the entire stock market can be reduced to nothing but a series of patterns which , through analysis , will produce information to accurately forecast future behaviour .   ( an example of the mentality involved : if the stock price goes up like this , and then down like that , and then sharply up this way , it then will go * this * way . )  while i freely admit that i know less than nothing about the market ( knowledge check : prices up -- good ; prices down -- bad ; most of the time , at least ) and hence really couldn\\'t comment with any authority , it\\'s always nonetheless struck me as an incredibly naive oversimplification of an astonishingly complex system ( and besides , if it were that simple , no doubt somebody would\\'ve already figured it all out ) .  the difference in this case is that while my colleague ( an otherwise assuredly realistic individual ) truly believes in this in and of itself as a valid forecaster , pi uses this ideology as a device with which to investigate its character\\'s psychosis .  it\\'s also vastly more convincing with its argument .   \" mathematics is the language of the universe , \" insists genius protagonist maximillian cohen ( sean gullette ) in a cool , mantra-like voice-over which repeats throughout the picture .  since nature can be expressed in numbers , and there are patterns everywhere in nature , he reasons with eminent logic that finding the patterns will allow him to predict anything -- the ups and downs of the stock market , how many games the yankees will win this year , the flavour of jam i\\'m going to put on my toast tomorrow morning .  obsessed with finding the proverbial key to the universe , max lives in paranoid , self-imposed solitude in a seedy nyc chinatown apartment , single-mindedly toiling away with his monstrous homemade computer system .  sullenly withdrawn and plauged by debilitating migraines , the elusive pursuit of a mysterious 216-digit number his machine spits out one day is driving him into madness .  the story , then , is basically an eccentricity , but it\\'s a clever , astute eccentricity , perceptively zeroing in on the modern mistrust of mathematical reductionism ; in an age where a dominant societal phobia is one\\'s individualism being replaced by a series of numeric identifiers , max\\'s all-consuming penchent for numbers at once creates a lingering , unsettling mood .  it helps matters that he\\'s not a particularly likable protagonist .  all attempts of friendliness from neighbours are curtly rebuffed by max , a spindly , neurotic-looking individual who hasn\\'t the time to indulge in pleasantries .  for a film which puts its lead character front and center ( mr . gullette appears in virtually every scene ) , pi takes a refreshing and effective approach in avoiding conventional aesthetics ; because of our ambivalence with max , we\\'re not so much avidly rooting for him to triumph with a moment of epiphany as we\\'re following him through this plot with a sense of mixed dread and morbid fascination -- it\\'s more disturbing journey than quest .  still , we do care about max\\'s fate .  teetering on the edge of dementia , he winds up being pursued by two different groups which want to pick his brain , both fronted by deliciously perky , resolutely cheerful representatives with inevitably duplictious intentions .  as we know , in films where paranoia is a dominant element ( see the truman show\\'s laura linney character ) , or for that matter , in real life , it\\'s always the ones who never stop smiling at you and are overly friendly that are the ones of which to be wary .  pi , a film that addresses patterns , itself intentionally adheres to an identifiable pattern cycle -- headache scene ; important revelation or bit of plot development ; pill-popping montage ; hallucinatory nightmare ( with decidedly cronenberg-esque undertones -- few other directors are as equally adept in bridging unsettling concepts and body-themed horror ) ; nosebleeding reality .  the repetitiveness , far from being tedious , is effectively maddening ; more than anything , the picture aims to get under our skins and take in events from max\\'s claustrophobic perspective .  in this regard , it wildly succeeds due to mr . aronofsky\\'s striking direction .  it\\'s a rarity that a film so completely immerses itself into a protagonist\\'s warped perspective of his surrounding , and high contrast black-and-white cinematography combined with constant usage of extreme close-ups lend a heightened sense of paranoia to the proceedings .   ( in some scenes , the stark composition in conjunction with the lumbering approach by mr . gullette make his character curiously resemble a latter-day max schreck , from nosferatu . )  using savage , jittery lensing and rapid cuts to create a sense of disorientation , the picture is often dizzying to behold , and max\\'s effective isolationism is emphasized by shots from the so-called snorri cam , which keep him in plain focus while the environment races by in blurred bursts .  pi\\'s raw , aggressive visuals are reminiscent of david lynch\\'s early work ( in particular , eraserhead ) .  the film\\'s sinister tone splashes onto the screen immediately with a dazzling opening credit sequence ably backed by a sly electronic score by clint mansell , and gradually increases in intensity .  still , amidst all its kafkaesque qualities and overall dispassionate mood , pi does occasionally display a sense of humour .  at one point , marcy dawson ( pamela hart , great fun ) entices max with the offer of an invaluable treasure : a one-of-a-kind . . .  computer chip .   \" isn\\'t it beautiful , \" she coos .  a showcase for mr . aronofsky\\'s technical virtuosity ( made for $60 000 , it\\'s since gone on to capture acclaim at the 1998 sundance film festival ) , pi is an intriguingly cerebral story which , ironically , is perhaps the most purely visceral film of the year .  '"
      ]
     },
     "execution_count": 4,
     "metadata": {},
     "output_type": "execute_result"
    }
   ],
   "source": [
    "train_data[\"text\"][1]"
   ]
  },
  {
   "cell_type": "code",
   "execution_count": 5,
   "metadata": {},
   "outputs": [],
   "source": [
    "def preprocess_text(sen):\n",
    "    # Remove punctuations and numbers\n",
    "    sen = re.sub('[^a-zA-Z]', ' ', sen)\n",
    "\n",
    "    # Single character removal\n",
    "    sen = re.sub(r\"\\s+[a-zA-Z]\\s+\", ' ', sen)\n",
    "\n",
    "    # Removing multiple spaces\n",
    "    sen = re.sub(r'\\s+', ' ', sen)\n",
    "\n",
    "    return sen"
   ]
  },
  {
   "cell_type": "code",
   "execution_count": 6,
   "metadata": {},
   "outputs": [],
   "source": [
    "sentences_train = []\n",
    "sentences_test = []\n",
    "\n",
    "train_sentences = list(train_data['text'])\n",
    "test_sentences = list(test_data['text'])\n",
    "\n",
    "for sen in train_sentences:\n",
    "    sentences_train.append(preprocess_text(sen))\n",
    "    \n",
    "for sen in test_sentences:\n",
    "    sentences_test.append(preprocess_text(sen))"
   ]
  },
  {
   "cell_type": "code",
   "execution_count": 7,
   "metadata": {},
   "outputs": [
    {
     "data": {
      "text/plain": [
       "'note some may consider portions of the following text to be spoilers be forewarned among my fanatical ticker tape worshipping friends there one who happens to share the same philosophy espoused by the central character in darren aronofsky darkly original pi the entire stock market can be reduced to nothing but series of patterns which through analysis will produce information to accurately forecast future behaviour an example of the mentality involved if the stock price goes up like this and then down like that and then sharply up this way it then will go this way while freely admit that know less than nothing about the market knowledge check prices up good prices down bad most of the time at least and hence really couldn comment with any authority it always nonetheless struck me as an incredibly naive oversimplification of an astonishingly complex system and besides if it were that simple no doubt somebody would ve already figured it all out the difference in this case is that while my colleague an otherwise assuredly realistic individual truly believes in this in and of itself as valid forecaster pi uses this ideology as device with which to investigate its character psychosis it also vastly more convincing with its argument mathematics is the language of the universe insists genius protagonist maximillian cohen sean gullette in cool mantra like voice over which repeats throughout the picture since nature can be expressed in numbers and there are patterns everywhere in nature he reasons with eminent logic that finding the patterns will allow him to predict anything the ups and downs of the stock market how many games the yankees will win this year the flavour of jam m going to put on my toast tomorrow morning obsessed with finding the proverbial key to the universe max lives in paranoid self imposed solitude in seedy nyc chinatown apartment single mindedly toiling away with his monstrous homemade computer system sullenly withdrawn and plauged by debilitating migraines the elusive pursuit of mysterious digit number his machine spits out one day is driving him into madness the story then is basically an eccentricity but it a clever astute eccentricity perceptively zeroing in on the modern mistrust of mathematical reductionism in an age where dominant societal phobia is one individualism being replaced by series of numeric identifiers max all consuming penchent for numbers at once creates lingering unsettling mood it helps matters that he not particularly likable protagonist all attempts of friendliness from neighbours are curtly rebuffed by max spindly neurotic looking individual who hasn the time to indulge in pleasantries for film which puts its lead character front and center mr gullette appears in virtually every scene pi takes refreshing and effective approach in avoiding conventional aesthetics because of our ambivalence with max we re not so much avidly rooting for him to triumph with moment of epiphany as we re following him through this plot with sense of mixed dread and morbid fascination it more disturbing journey than quest still we do care about max fate teetering on the edge of dementia he winds up being pursued by two different groups which want to pick his brain both fronted by deliciously perky resolutely cheerful representatives with inevitably duplictious intentions as we know in films where paranoia is dominant element see the truman show laura linney character or for that matter in real life it always the ones who never stop smiling at you and are overly friendly that are the ones of which to be wary pi film that addresses patterns itself intentionally adheres to an identifiable pattern cycle headache scene important revelation or bit of plot development pill popping montage hallucinatory nightmare with decidedly cronenberg esque undertones few other directors are as equally adept in bridging unsettling concepts and body themed horror nosebleeding reality the repetitiveness far from being tedious is effectively maddening more than anything the picture aims to get under our skins and take in events from max claustrophobic perspective in this regard it wildly succeeds due to mr aronofsky striking direction it a rarity that film so completely immerses itself into protagonist warped perspective of his surrounding and high contrast black and white cinematography combined with constant usage of extreme close ups lend heightened sense of paranoia to the proceedings in some scenes the stark composition in conjunction with the lumbering approach by mr gullette make his character curiously resemble latter day max schreck from nosferatu using savage jittery lensing and rapid cuts to create sense of disorientation the picture is often dizzying to behold and max effective isolationism is emphasized by shots from the so called snorri cam which keep him in plain focus while the environment races by in blurred bursts pi raw aggressive visuals are reminiscent of david lynch early work in particular eraserhead the film sinister tone splashes onto the screen immediately with dazzling opening credit sequence ably backed by sly electronic score by clint mansell and gradually increases in intensity still amidst all its kafkaesque qualities and overall dispassionate mood pi does occasionally display sense of humour at one point marcy dawson pamela hart great fun entices max with the offer of an invaluable treasure one of kind computer chip isn it beautiful she coos showcase for mr aronofsky technical virtuosity made for it since gone on to capture acclaim at the sundance film festival pi is an intriguingly cerebral story which ironically is perhaps the most purely visceral film of the year '"
      ]
     },
     "execution_count": 7,
     "metadata": {},
     "output_type": "execute_result"
    }
   ],
   "source": [
    "sentences_train[1]"
   ]
  },
  {
   "cell_type": "code",
   "execution_count": 8,
   "metadata": {},
   "outputs": [],
   "source": [
    "y_train = train_data['label'].values\n",
    "y_test = test_data['label'].values"
   ]
  },
  {
   "cell_type": "code",
   "execution_count": 9,
   "metadata": {},
   "outputs": [],
   "source": [
    "tokenizer = Tokenizer(num_words=10000)\n",
    "tokenizer.fit_on_texts(sentences_train)\n",
    "\n",
    "word_index = tokenizer.word_index\n",
    "\n",
    "X_train = tokenizer.texts_to_sequences(sentences_train)\n",
    "X_test = tokenizer.texts_to_sequences(sentences_test)\n",
    "\n",
    "vocab_size = len(tokenizer.word_index) + 1  # Adding 1 because of reserved 0 index"
   ]
  },
  {
   "cell_type": "code",
   "execution_count": null,
   "metadata": {},
   "outputs": [],
   "source": []
  },
  {
   "cell_type": "code",
   "execution_count": 10,
   "metadata": {},
   "outputs": [],
   "source": [
    "maxlen = 400\n",
    "\n",
    "X_train = pad_sequences(X_train, padding='post', maxlen=maxlen)\n",
    "X_test = pad_sequences(X_test, padding='post', maxlen=maxlen)"
   ]
  },
  {
   "cell_type": "code",
   "execution_count": 11,
   "metadata": {},
   "outputs": [],
   "source": [
    "def create_embedding_matrix(filepath, word_index, embedding_dim):\n",
    "    vocab_size = len(word_index) + 1  # Adding again 1 because of reserved 0 index\n",
    "    embedding_matrix = np.zeros((vocab_size, embedding_dim))\n",
    "\n",
    "    with open(filepath,'r', errors = 'ignore', encoding='utf8') as f:\n",
    "        for line in f:\n",
    "            try:\n",
    "                word, *vector = line.split()\n",
    "                if word in word_index:\n",
    "                    idx = word_index[word] \n",
    "                    embedding_matrix[idx] = np.array(\n",
    "                        vector, dtype=np.float32)[:embedding_dim]\n",
    "            except:\n",
    "                print(word)\n",
    "                pass\n",
    "\n",
    "    return embedding_matrix"
   ]
  },
  {
   "cell_type": "code",
   "execution_count": 12,
   "metadata": {},
   "outputs": [
    {
     "name": "stdout",
     "output_type": "stream",
     "text": [
      "at\n",
      "to\n",
      "email\n",
      "or\n",
      "contact\n",
      "on\n",
      "by\n",
      "in\n",
      "at\n",
      "at\n",
      "is\n"
     ]
    }
   ],
   "source": [
    "                                 #embedding link: http://nlp.stanford.edu/data/glove.840B.300d.zip\n",
    "    \n",
    "file_path='C:/Users/cdwor/Desktop/glove.840B.300d.txt'\n",
    "#file_path='C:/Users/cdwor/OneDrive/Education/University/Year 5/Data Wrangling/Coursework 2/data/glove.6B.100d.txt'\n",
    "embedding_dim = 300\n",
    "embedding_matrix = create_embedding_matrix(\n",
    "    file_path,\n",
    "    tokenizer.word_index, embedding_dim)"
   ]
  },
  {
   "cell_type": "code",
   "execution_count": 13,
   "metadata": {},
   "outputs": [
    {
     "name": "stdout",
     "output_type": "stream",
     "text": [
      "(33828, 300)\n"
     ]
    }
   ],
   "source": [
    "print(embedding_matrix.shape)"
   ]
  },
  {
   "cell_type": "code",
   "execution_count": 14,
   "metadata": {},
   "outputs": [
    {
     "name": "stdout",
     "output_type": "stream",
     "text": [
      "[[ 0.          0.          0.         ...  0.          0.\n",
      "   0.        ]\n",
      " [ 0.27204001 -0.06203    -0.1884     ...  0.13015001 -0.18317001\n",
      "   0.1323    ]\n",
      " [-0.18567     0.066008   -0.25209001 ... -0.023452    0.12302\n",
      "   0.3312    ]\n",
      " ...\n",
      " [ 0.71087998  0.31716001  0.14848    ... -0.0027204   0.32440999\n",
      "  -0.31963   ]\n",
      " [-0.1211      0.29692999  0.40535    ...  0.18128    -0.2053\n",
      "  -0.60477   ]\n",
      " [-0.29899999  0.29299     0.45682001 ... -0.25531     0.55012\n",
      "  -0.0039112 ]]\n"
     ]
    }
   ],
   "source": [
    "print(embedding_matrix)"
   ]
  },
  {
   "cell_type": "code",
   "execution_count": 15,
   "metadata": {},
   "outputs": [
    {
     "data": {
      "text/plain": [
       "0.9369752867447085"
      ]
     },
     "execution_count": 15,
     "metadata": {},
     "output_type": "execute_result"
    }
   ],
   "source": [
    "nonzero_elements = np.count_nonzero(np.count_nonzero(embedding_matrix, axis=1))\n",
    "nonzero_elements / vocab_size"
   ]
  },
  {
   "cell_type": "code",
   "execution_count": 84,
   "metadata": {},
   "outputs": [
    {
     "name": "stdout",
     "output_type": "stream",
     "text": [
      "Fitting 4 folds for each of 5 candidates, totalling 20 fits\n"
     ]
    },
    {
     "name": "stderr",
     "output_type": "stream",
     "text": [
      "[Parallel(n_jobs=1)]: Using backend SequentialBackend with 1 concurrent workers.\n"
     ]
    },
    {
     "name": "stdout",
     "output_type": "stream",
     "text": [
      "WARNING:tensorflow:5 out of the last 13 calls to <function Model.make_test_function.<locals>.test_function at 0x000001BF051F44C0> triggered tf.function retracing. Tracing is expensive and the excessive number of tracings could be due to (1) creating @tf.function repeatedly in a loop, (2) passing tensors with different shapes, (3) passing Python objects instead of tensors. For (1), please define your @tf.function outside of the loop. For (2), @tf.function has experimental_relax_shapes=True option that relaxes argument shapes that can avoid unnecessary retracing. For (3), please refer to https://www.tensorflow.org/guide/function#controlling_retracing and https://www.tensorflow.org/api_docs/python/tf/function for  more details.\n",
      "WARNING:tensorflow:5 out of the last 13 calls to <function Model.make_test_function.<locals>.test_function at 0x000001BF00FB44C0> triggered tf.function retracing. Tracing is expensive and the excessive number of tracings could be due to (1) creating @tf.function repeatedly in a loop, (2) passing tensors with different shapes, (3) passing Python objects instead of tensors. For (1), please define your @tf.function outside of the loop. For (2), @tf.function has experimental_relax_shapes=True option that relaxes argument shapes that can avoid unnecessary retracing. For (3), please refer to https://www.tensorflow.org/guide/function#controlling_retracing and https://www.tensorflow.org/api_docs/python/tf/function for  more details.\n",
      "WARNING:tensorflow:5 out of the last 13 calls to <function Model.make_test_function.<locals>.test_function at 0x000001BF7066D310> triggered tf.function retracing. Tracing is expensive and the excessive number of tracings could be due to (1) creating @tf.function repeatedly in a loop, (2) passing tensors with different shapes, (3) passing Python objects instead of tensors. For (1), please define your @tf.function outside of the loop. For (2), @tf.function has experimental_relax_shapes=True option that relaxes argument shapes that can avoid unnecessary retracing. For (3), please refer to https://www.tensorflow.org/guide/function#controlling_retracing and https://www.tensorflow.org/api_docs/python/tf/function for  more details.\n",
      "WARNING:tensorflow:5 out of the last 13 calls to <function Model.make_test_function.<locals>.test_function at 0x000001BF04200430> triggered tf.function retracing. Tracing is expensive and the excessive number of tracings could be due to (1) creating @tf.function repeatedly in a loop, (2) passing tensors with different shapes, (3) passing Python objects instead of tensors. For (1), please define your @tf.function outside of the loop. For (2), @tf.function has experimental_relax_shapes=True option that relaxes argument shapes that can avoid unnecessary retracing. For (3), please refer to https://www.tensorflow.org/guide/function#controlling_retracing and https://www.tensorflow.org/api_docs/python/tf/function for  more details.\n",
      "WARNING:tensorflow:5 out of the last 13 calls to <function Model.make_test_function.<locals>.test_function at 0x000001BF727B9E50> triggered tf.function retracing. Tracing is expensive and the excessive number of tracings could be due to (1) creating @tf.function repeatedly in a loop, (2) passing tensors with different shapes, (3) passing Python objects instead of tensors. For (1), please define your @tf.function outside of the loop. For (2), @tf.function has experimental_relax_shapes=True option that relaxes argument shapes that can avoid unnecessary retracing. For (3), please refer to https://www.tensorflow.org/guide/function#controlling_retracing and https://www.tensorflow.org/api_docs/python/tf/function for  more details.\n",
      "WARNING:tensorflow:5 out of the last 13 calls to <function Model.make_test_function.<locals>.test_function at 0x000001BF00FCE430> triggered tf.function retracing. Tracing is expensive and the excessive number of tracings could be due to (1) creating @tf.function repeatedly in a loop, (2) passing tensors with different shapes, (3) passing Python objects instead of tensors. For (1), please define your @tf.function outside of the loop. For (2), @tf.function has experimental_relax_shapes=True option that relaxes argument shapes that can avoid unnecessary retracing. For (3), please refer to https://www.tensorflow.org/guide/function#controlling_retracing and https://www.tensorflow.org/api_docs/python/tf/function for  more details.\n",
      "WARNING:tensorflow:5 out of the last 13 calls to <function Model.make_test_function.<locals>.test_function at 0x000001BF00D54E50> triggered tf.function retracing. Tracing is expensive and the excessive number of tracings could be due to (1) creating @tf.function repeatedly in a loop, (2) passing tensors with different shapes, (3) passing Python objects instead of tensors. For (1), please define your @tf.function outside of the loop. For (2), @tf.function has experimental_relax_shapes=True option that relaxes argument shapes that can avoid unnecessary retracing. For (3), please refer to https://www.tensorflow.org/guide/function#controlling_retracing and https://www.tensorflow.org/api_docs/python/tf/function for  more details.\n",
      "WARNING:tensorflow:5 out of the last 13 calls to <function Model.make_test_function.<locals>.test_function at 0x000001BF0002DC10> triggered tf.function retracing. Tracing is expensive and the excessive number of tracings could be due to (1) creating @tf.function repeatedly in a loop, (2) passing tensors with different shapes, (3) passing Python objects instead of tensors. For (1), please define your @tf.function outside of the loop. For (2), @tf.function has experimental_relax_shapes=True option that relaxes argument shapes that can avoid unnecessary retracing. For (3), please refer to https://www.tensorflow.org/guide/function#controlling_retracing and https://www.tensorflow.org/api_docs/python/tf/function for  more details.\n",
      "WARNING:tensorflow:5 out of the last 13 calls to <function Model.make_test_function.<locals>.test_function at 0x000001BF000CA670> triggered tf.function retracing. Tracing is expensive and the excessive number of tracings could be due to (1) creating @tf.function repeatedly in a loop, (2) passing tensors with different shapes, (3) passing Python objects instead of tensors. For (1), please define your @tf.function outside of the loop. For (2), @tf.function has experimental_relax_shapes=True option that relaxes argument shapes that can avoid unnecessary retracing. For (3), please refer to https://www.tensorflow.org/guide/function#controlling_retracing and https://www.tensorflow.org/api_docs/python/tf/function for  more details.\n",
      "WARNING:tensorflow:5 out of the last 13 calls to <function Model.make_test_function.<locals>.test_function at 0x000001BF041824C0> triggered tf.function retracing. Tracing is expensive and the excessive number of tracings could be due to (1) creating @tf.function repeatedly in a loop, (2) passing tensors with different shapes, (3) passing Python objects instead of tensors. For (1), please define your @tf.function outside of the loop. For (2), @tf.function has experimental_relax_shapes=True option that relaxes argument shapes that can avoid unnecessary retracing. For (3), please refer to https://www.tensorflow.org/guide/function#controlling_retracing and https://www.tensorflow.org/api_docs/python/tf/function for  more details.\n",
      "WARNING:tensorflow:5 out of the last 13 calls to <function Model.make_test_function.<locals>.test_function at 0x000001BF042001F0> triggered tf.function retracing. Tracing is expensive and the excessive number of tracings could be due to (1) creating @tf.function repeatedly in a loop, (2) passing tensors with different shapes, (3) passing Python objects instead of tensors. For (1), please define your @tf.function outside of the loop. For (2), @tf.function has experimental_relax_shapes=True option that relaxes argument shapes that can avoid unnecessary retracing. For (3), please refer to https://www.tensorflow.org/guide/function#controlling_retracing and https://www.tensorflow.org/api_docs/python/tf/function for  more details.\n",
      "WARNING:tensorflow:5 out of the last 13 calls to <function Model.make_test_function.<locals>.test_function at 0x000001BF00D54DC0> triggered tf.function retracing. Tracing is expensive and the excessive number of tracings could be due to (1) creating @tf.function repeatedly in a loop, (2) passing tensors with different shapes, (3) passing Python objects instead of tensors. For (1), please define your @tf.function outside of the loop. For (2), @tf.function has experimental_relax_shapes=True option that relaxes argument shapes that can avoid unnecessary retracing. For (3), please refer to https://www.tensorflow.org/guide/function#controlling_retracing and https://www.tensorflow.org/api_docs/python/tf/function for  more details.\n",
      "WARNING:tensorflow:5 out of the last 13 calls to <function Model.make_test_function.<locals>.test_function at 0x000001BF00FE05E0> triggered tf.function retracing. Tracing is expensive and the excessive number of tracings could be due to (1) creating @tf.function repeatedly in a loop, (2) passing tensors with different shapes, (3) passing Python objects instead of tensors. For (1), please define your @tf.function outside of the loop. For (2), @tf.function has experimental_relax_shapes=True option that relaxes argument shapes that can avoid unnecessary retracing. For (3), please refer to https://www.tensorflow.org/guide/function#controlling_retracing and https://www.tensorflow.org/api_docs/python/tf/function for  more details.\n",
      "WARNING:tensorflow:5 out of the last 13 calls to <function Model.make_test_function.<locals>.test_function at 0x000001BF70DC9700> triggered tf.function retracing. Tracing is expensive and the excessive number of tracings could be due to (1) creating @tf.function repeatedly in a loop, (2) passing tensors with different shapes, (3) passing Python objects instead of tensors. For (1), please define your @tf.function outside of the loop. For (2), @tf.function has experimental_relax_shapes=True option that relaxes argument shapes that can avoid unnecessary retracing. For (3), please refer to https://www.tensorflow.org/guide/function#controlling_retracing and https://www.tensorflow.org/api_docs/python/tf/function for  more details.\n",
      "WARNING:tensorflow:5 out of the last 13 calls to <function Model.make_test_function.<locals>.test_function at 0x000001BF727B9310> triggered tf.function retracing. Tracing is expensive and the excessive number of tracings could be due to (1) creating @tf.function repeatedly in a loop, (2) passing tensors with different shapes, (3) passing Python objects instead of tensors. For (1), please define your @tf.function outside of the loop. For (2), @tf.function has experimental_relax_shapes=True option that relaxes argument shapes that can avoid unnecessary retracing. For (3), please refer to https://www.tensorflow.org/guide/function#controlling_retracing and https://www.tensorflow.org/api_docs/python/tf/function for  more details.\n",
      "WARNING:tensorflow:5 out of the last 13 calls to <function Model.make_test_function.<locals>.test_function at 0x000001BF006B5CA0> triggered tf.function retracing. Tracing is expensive and the excessive number of tracings could be due to (1) creating @tf.function repeatedly in a loop, (2) passing tensors with different shapes, (3) passing Python objects instead of tensors. For (1), please define your @tf.function outside of the loop. For (2), @tf.function has experimental_relax_shapes=True option that relaxes argument shapes that can avoid unnecessary retracing. For (3), please refer to https://www.tensorflow.org/guide/function#controlling_retracing and https://www.tensorflow.org/api_docs/python/tf/function for  more details.\n",
      "WARNING:tensorflow:5 out of the last 13 calls to <function Model.make_test_function.<locals>.test_function at 0x000001BF00F624C0> triggered tf.function retracing. Tracing is expensive and the excessive number of tracings could be due to (1) creating @tf.function repeatedly in a loop, (2) passing tensors with different shapes, (3) passing Python objects instead of tensors. For (1), please define your @tf.function outside of the loop. For (2), @tf.function has experimental_relax_shapes=True option that relaxes argument shapes that can avoid unnecessary retracing. For (3), please refer to https://www.tensorflow.org/guide/function#controlling_retracing and https://www.tensorflow.org/api_docs/python/tf/function for  more details.\n",
      "WARNING:tensorflow:5 out of the last 13 calls to <function Model.make_test_function.<locals>.test_function at 0x000001BF7066D1F0> triggered tf.function retracing. Tracing is expensive and the excessive number of tracings could be due to (1) creating @tf.function repeatedly in a loop, (2) passing tensors with different shapes, (3) passing Python objects instead of tensors. For (1), please define your @tf.function outside of the loop. For (2), @tf.function has experimental_relax_shapes=True option that relaxes argument shapes that can avoid unnecessary retracing. For (3), please refer to https://www.tensorflow.org/guide/function#controlling_retracing and https://www.tensorflow.org/api_docs/python/tf/function for  more details.\n",
      "WARNING:tensorflow:5 out of the last 13 calls to <function Model.make_test_function.<locals>.test_function at 0x000001BF70D775E0> triggered tf.function retracing. Tracing is expensive and the excessive number of tracings could be due to (1) creating @tf.function repeatedly in a loop, (2) passing tensors with different shapes, (3) passing Python objects instead of tensors. For (1), please define your @tf.function outside of the loop. For (2), @tf.function has experimental_relax_shapes=True option that relaxes argument shapes that can avoid unnecessary retracing. For (3), please refer to https://www.tensorflow.org/guide/function#controlling_retracing and https://www.tensorflow.org/api_docs/python/tf/function for  more details.\n",
      "WARNING:tensorflow:5 out of the last 13 calls to <function Model.make_test_function.<locals>.test_function at 0x000001BF70E2DB80> triggered tf.function retracing. Tracing is expensive and the excessive number of tracings could be due to (1) creating @tf.function repeatedly in a loop, (2) passing tensors with different shapes, (3) passing Python objects instead of tensors. For (1), please define your @tf.function outside of the loop. For (2), @tf.function has experimental_relax_shapes=True option that relaxes argument shapes that can avoid unnecessary retracing. For (3), please refer to https://www.tensorflow.org/guide/function#controlling_retracing and https://www.tensorflow.org/api_docs/python/tf/function for  more details.\n"
     ]
    },
    {
     "name": "stderr",
     "output_type": "stream",
     "text": [
      "[Parallel(n_jobs=1)]: Done  20 out of  20 | elapsed:  3.7min finished\n"
     ]
    },
    {
     "name": "stdout",
     "output_type": "stream",
     "text": [
      "WARNING:tensorflow:5 out of the last 13 calls to <function Model.make_test_function.<locals>.test_function at 0x000001BF00D54DC0> triggered tf.function retracing. Tracing is expensive and the excessive number of tracings could be due to (1) creating @tf.function repeatedly in a loop, (2) passing tensors with different shapes, (3) passing Python objects instead of tensors. For (1), please define your @tf.function outside of the loop. For (2), @tf.function has experimental_relax_shapes=True option that relaxes argument shapes that can avoid unnecessary retracing. For (3), please refer to https://www.tensorflow.org/guide/function#controlling_retracing and https://www.tensorflow.org/api_docs/python/tf/function for  more details.\n",
      "Running source data set\n",
      "Best Accuracy : 0.5466\n",
      "{'vocab_size': 33828, 'num_filters': 32, 'maxlen': 400, 'kernel_size': 7, 'embedding_dim': 100}\n",
      "Test Accuracy : 0.6000\n",
      "\n",
      "\n"
     ]
    }
   ],
   "source": [
    "def create_model(num_filters, kernel_size, vocab_size, embedding_dim, maxlen):\n",
    "    model = Sequential()\n",
    "    model.add(layers.Embedding(len(train_word_index)+1, EMBEDDING_DIM, weights=[train_embedding_weights], input_length=MAX_SEQUENCE_LENGTH, trainable=True))\n",
    "    model.add(layers.Conv1D(200, 5, activation='relu'))\n",
    "    model.add(layers.GlobalMaxPooling1D())\n",
    "    model.add(layers.Dense(10, activation='relu'))\n",
    "    model.add(layers.Dense(1, activation='sigmoid'))\n",
    "    model.compile(optimizer='adam',\n",
    "                  loss='binary_crossentropy',\n",
    "                  metrics=['accuracy'])\n",
    "    return model\n",
    "\n",
    "# Main settings\n",
    "embedding_dim = 100\n",
    "maxlen = 400\n",
    "output_file = 'data/output.txt'\n",
    "\n",
    "val_data = pd.read_csv('data/val.csv', header = None, delimiter=',')\n",
    "val_data.columns = ['text','label']\n",
    "\n",
    "X = []\n",
    "sentences = list(val_data['text'])\n",
    "for sen in sentences:\n",
    "    X.append(preprocess_text(sen))\n",
    "\n",
    "y = val_data['label'].values\n",
    "\n",
    "# Train-test split\n",
    "val_sentences_train, val_sentences_test, val_y_train, val_y_test = train_test_split(\n",
    "    X, y, test_size=0.25, random_state=1000)\n",
    "\n",
    "# Tokenize words\n",
    "tokenizer = Tokenizer(num_words=10000)\n",
    "tokenizer.fit_on_texts(sentences_train)\n",
    "X_train_val = tokenizer.texts_to_sequences(val_sentences_train)\n",
    "X_test_val = tokenizer.texts_to_sequences(val_sentences_test)\n",
    "\n",
    "# Adding 1 because of reserved 0 index\n",
    "vocab_size = len(tokenizer.word_index) + 1\n",
    "\n",
    "# Pad sequences with zeros\n",
    "X_train_val = pad_sequences(X_train_val, padding='post', maxlen=maxlen)\n",
    "X_test_val = pad_sequences(X_test_val, padding='post', maxlen=maxlen)\n",
    "\n",
    "\n",
    "# Parameter grid for grid search\n",
    "param_grid = dict(num_filters=[32, 64, 128],\n",
    "                  kernel_size=[3, 5, 7],\n",
    "                  vocab_size=[vocab_size],\n",
    "                  embedding_dim=[embedding_dim],\n",
    "                  maxlen=[maxlen],\n",
    "                )\n",
    "\n",
    "model = KerasClassifier(build_fn=create_model,\n",
    "                        epochs=20, batch_size=16,\n",
    "                        verbose=False)\n",
    "\n",
    "grid = RandomizedSearchCV(estimator=model, param_distributions=param_grid,\n",
    "                          cv=4, verbose=1, n_iter=5)\n",
    "\n",
    "grid_result = grid.fit(X_train_val, val_y_train)\n",
    "\n",
    "# Evaluate testing set\n",
    "test_accuracy = grid.score(X_test_val, val_y_test)\n",
    "\n",
    "with open(output_file, 'a') as f:\n",
    "    s = ('Running {} data set\\nBest Accuracy : '\n",
    "         '{:.4f}\\n{}\\nTest Accuracy : {:.4f}\\n\\n')\n",
    "    output_string = s.format(\n",
    "        \"source\",\n",
    "        grid_result.best_score_,\n",
    "        grid_result.best_params_,\n",
    "        test_accuracy)\n",
    "    print(output_string)\n",
    "    f.write(output_string)"
   ]
  },
  {
   "cell_type": "code",
   "execution_count": 16,
   "metadata": {},
   "outputs": [],
   "source": [
    "from keras import backend as K\n",
    "\n",
    "def recall_m(y_true, y_pred):\n",
    "    true_positives = K.sum(K.round(K.clip(y_true * y_pred, 0, 1)))\n",
    "    possible_positives = K.sum(K.round(K.clip(y_true, 0, 1)))\n",
    "    recall = true_positives / (possible_positives + K.epsilon())\n",
    "    return recall\n",
    "\n",
    "def precision_m(y_true, y_pred):\n",
    "    true_positives = K.sum(K.round(K.clip(y_true * y_pred, 0, 1)))\n",
    "    predicted_positives = K.sum(K.round(K.clip(y_pred, 0, 1)))\n",
    "    precision = true_positives / (predicted_positives + K.epsilon())\n",
    "    return precision\n",
    "\n",
    "def f1_m(y_true, y_pred):\n",
    "    precision = precision_m(y_true, y_pred)\n",
    "    recall = recall_m(y_true, y_pred)\n",
    "    return 2*((precision*recall)/(precision+recall+K.epsilon()))"
   ]
  },
  {
   "cell_type": "code",
   "execution_count": 23,
   "metadata": {},
   "outputs": [
    {
     "name": "stdout",
     "output_type": "stream",
     "text": [
      "Model: \"sequential\"\n",
      "_________________________________________________________________\n",
      "Layer (type)                 Output Shape              Param #   \n",
      "=================================================================\n",
      "embedding (Embedding)        (None, 400, 300)          10148400  \n",
      "_________________________________________________________________\n",
      "conv1d (Conv1D)              (None, 395, 200)          360200    \n",
      "_________________________________________________________________\n",
      "global_max_pooling1d (Global (None, 200)               0         \n",
      "_________________________________________________________________\n",
      "dense (Dense)                (None, 10)                2010      \n",
      "_________________________________________________________________\n",
      "dense_1 (Dense)              (None, 1)                 11        \n",
      "=================================================================\n",
      "Total params: 10,510,621\n",
      "Trainable params: 10,510,621\n",
      "Non-trainable params: 0\n",
      "_________________________________________________________________\n"
     ]
    }
   ],
   "source": [
    "embedding_dim = 300\n",
    "\n",
    "model = Sequential()\n",
    "model.add(layers.Embedding(vocab_size, embedding_dim, weights=[embedding_matrix], input_length=maxlen, trainable=True))\n",
    "model.add(layers.Conv1D(200, 6, activation='relu'))\n",
    "model.add(layers.GlobalMaxPooling1D())\n",
    "model.add(layers.Dense(10, activation='relu'))\n",
    "model.add(layers.Dense(1, activation='sigmoid'))\n",
    "model.compile(optimizer='adam',\n",
    "              loss='binary_crossentropy',\n",
    "              metrics=['accuracy', f1_m, precision_m, recall_m])\n",
    "model.summary()"
   ]
  },
  {
   "cell_type": "code",
   "execution_count": 24,
   "metadata": {},
   "outputs": [
    {
     "name": "stdout",
     "output_type": "stream",
     "text": [
      "Epoch 1/50\n",
      "88/88 [==============================] - 19s 204ms/step - loss: 0.6957 - accuracy: 0.5157 - f1_m: 0.5523 - precision_m: 0.4268 - recall_m: 0.8246 - val_loss: 0.6860 - val_accuracy: 0.5000 - val_f1_m: 0.5067 - val_precision_m: 0.5000 - val_recall_m: 0.5200\n",
      "Epoch 2/50\n",
      "88/88 [==============================] - 17s 199ms/step - loss: 0.6607 - accuracy: 0.5291 - f1_m: 0.6675 - precision_m: 0.5172 - recall_m: 0.9941 - val_loss: 0.6151 - val_accuracy: 0.5625 - val_f1_m: 0.5091 - val_precision_m: 0.5029 - val_recall_m: 0.5200\n",
      "Epoch 3/50\n",
      "88/88 [==============================] - 17s 193ms/step - loss: 0.4311 - accuracy: 0.8564 - f1_m: 0.8632 - precision_m: 0.8187 - recall_m: 0.9600 - val_loss: 0.3606 - val_accuracy: 0.8350 - val_f1_m: 0.4451 - val_precision_m: 0.5200 - val_recall_m: 0.3950\n",
      "Epoch 4/50\n",
      "88/88 [==============================] - 17s 193ms/step - loss: 0.0922 - accuracy: 0.9790 - f1_m: 0.9756 - precision_m: 0.9784 - recall_m: 0.9782 - val_loss: 0.4628 - val_accuracy: 0.8050 - val_f1_m: 0.4950 - val_precision_m: 0.5133 - val_recall_m: 0.4800\n",
      "Epoch 5/50\n",
      "88/88 [==============================] - 17s 194ms/step - loss: 0.0100 - accuracy: 1.0000 - f1_m: 1.0000 - precision_m: 1.0000 - recall_m: 1.0000 - val_loss: 0.4165 - val_accuracy: 0.8200 - val_f1_m: 0.4882 - val_precision_m: 0.5133 - val_recall_m: 0.4675\n",
      "Epoch 6/50\n",
      "88/88 [==============================] - 17s 193ms/step - loss: 0.0041 - accuracy: 1.0000 - f1_m: 1.0000 - precision_m: 1.0000 - recall_m: 1.0000 - val_loss: 0.3790 - val_accuracy: 0.8400 - val_f1_m: 0.4793 - val_precision_m: 0.5200 - val_recall_m: 0.4475\n",
      "Epoch 7/50\n",
      "88/88 [==============================] - 17s 192ms/step - loss: 0.0023 - accuracy: 1.0000 - f1_m: 1.0000 - precision_m: 1.0000 - recall_m: 1.0000 - val_loss: 0.3862 - val_accuracy: 0.8425 - val_f1_m: 0.4807 - val_precision_m: 0.5200 - val_recall_m: 0.4500_m: 1.0000 - precision_m: 1.0000 - re\n",
      "Epoch 8/50\n",
      "88/88 [==============================] - 17s 191ms/step - loss: 0.0017 - accuracy: 1.0000 - f1_m: 1.0000 - precision_m: 1.0000 - recall_m: 1.0000 - val_loss: 0.3943 - val_accuracy: 0.8450 - val_f1_m: 0.4834 - val_precision_m: 0.5200 - val_recall_m: 0.4550\n",
      "Epoch 9/50\n",
      "88/88 [==============================] - 17s 196ms/step - loss: 0.0014 - accuracy: 1.0000 - f1_m: 1.0000 - precision_m: 1.0000 - recall_m: 1.0000 - val_loss: 0.3980 - val_accuracy: 0.8475 - val_f1_m: 0.4834 - val_precision_m: 0.5200 - val_recall_m: 0.4550\n",
      "Epoch 10/50\n",
      "88/88 [==============================] - 17s 193ms/step - loss: 0.0011 - accuracy: 1.0000 - f1_m: 1.0000 - precision_m: 1.0000 - recall_m: 1.0000 - val_loss: 0.3984 - val_accuracy: 0.8400 - val_f1_m: 0.4793 - val_precision_m: 0.5200 - val_recall_m: 0.4475\n",
      "Epoch 11/50\n",
      "88/88 [==============================] - 17s 193ms/step - loss: 9.1217e-04 - accuracy: 1.0000 - f1_m: 1.0000 - precision_m: 1.0000 - recall_m: 1.0000 - val_loss: 0.4066 - val_accuracy: 0.8500 - val_f1_m: 0.4847 - val_precision_m: 0.5200 - val_recall_m: 0.4575\n",
      "Epoch 12/50\n",
      "88/88 [==============================] - 17s 194ms/step - loss: 7.5040e-04 - accuracy: 1.0000 - f1_m: 1.0000 - precision_m: 1.0000 - recall_m: 1.0000 - val_loss: 0.4070 - val_accuracy: 0.8450 - val_f1_m: 0.4821 - val_precision_m: 0.5200 - val_recall_m: 0.4525\n",
      "Epoch 13/50\n",
      "88/88 [==============================] - 17s 192ms/step - loss: 6.2450e-04 - accuracy: 1.0000 - f1_m: 1.0000 - precision_m: 1.0000 - recall_m: 1.0000 - val_loss: 0.4145 - val_accuracy: 0.8475 - val_f1_m: 0.4847 - val_precision_m: 0.5200 - val_recall_m: 0.4575\n",
      "Epoch 14/50\n",
      "88/88 [==============================] - 17s 191ms/step - loss: 5.4411e-04 - accuracy: 1.0000 - f1_m: 1.0000 - precision_m: 1.0000 - recall_m: 1.0000 - val_loss: 0.4151 - val_accuracy: 0.8500 - val_f1_m: 0.4847 - val_precision_m: 0.5200 - val_recall_m: 0.4575\n",
      "Epoch 15/50\n",
      "88/88 [==============================] - 17s 192ms/step - loss: 4.7146e-04 - accuracy: 1.0000 - f1_m: 1.0000 - precision_m: 1.0000 - recall_m: 1.0000 - val_loss: 0.4204 - val_accuracy: 0.8475 - val_f1_m: 0.4847 - val_precision_m: 0.5200 - val_recall_m: 0.4575\n",
      "Epoch 16/50\n",
      "88/88 [==============================] - 17s 191ms/step - loss: 4.1961e-04 - accuracy: 1.0000 - f1_m: 1.0000 - precision_m: 1.0000 - recall_m: 1.0000 - val_loss: 0.4206 - val_accuracy: 0.8500 - val_f1_m: 0.4847 - val_precision_m: 0.5200 - val_recall_m: 0.4575\n",
      "Epoch 17/50\n",
      "88/88 [==============================] - 17s 191ms/step - loss: 3.6436e-04 - accuracy: 1.0000 - f1_m: 1.0000 - precision_m: 1.0000 - recall_m: 1.0000 - val_loss: 0.4229 - val_accuracy: 0.8500 - val_f1_m: 0.4847 - val_precision_m: 0.5200 - val_recall_m: 0.4575\n",
      "Epoch 18/50\n",
      "88/88 [==============================] - 17s 192ms/step - loss: 3.2409e-04 - accuracy: 1.0000 - f1_m: 1.0000 - precision_m: 1.0000 - recall_m: 1.0000 - val_loss: 0.4268 - val_accuracy: 0.8500 - val_f1_m: 0.4847 - val_precision_m: 0.5200 - val_recall_m: 0.4575\n",
      "Epoch 19/50\n",
      "88/88 [==============================] - 17s 193ms/step - loss: 2.9589e-04 - accuracy: 1.0000 - f1_m: 1.0000 - precision_m: 1.0000 - recall_m: 1.0000 - val_loss: 0.4308 - val_accuracy: 0.8500 - val_f1_m: 0.4847 - val_precision_m: 0.5200 - val_recall_m: 0.4575\n",
      "Epoch 20/50\n",
      "88/88 [==============================] - 17s 191ms/step - loss: 2.6883e-04 - accuracy: 1.0000 - f1_m: 1.0000 - precision_m: 1.0000 - recall_m: 1.0000 - val_loss: 0.4338 - val_accuracy: 0.8500 - val_f1_m: 0.4847 - val_precision_m: 0.5200 - val_recall_m: 0.4575\n",
      "Epoch 21/50\n",
      "88/88 [==============================] - 17s 193ms/step - loss: 2.3655e-04 - accuracy: 1.0000 - f1_m: 1.0000 - precision_m: 1.0000 - recall_m: 1.0000 - val_loss: 0.4338 - val_accuracy: 0.8500 - val_f1_m: 0.4847 - val_precision_m: 0.5200 - val_recall_m: 0.4575\n",
      "Epoch 22/50\n",
      "88/88 [==============================] - 17s 195ms/step - loss: 2.1745e-04 - accuracy: 1.0000 - f1_m: 1.0000 - precision_m: 1.0000 - recall_m: 1.0000 - val_loss: 0.4404 - val_accuracy: 0.8475 - val_f1_m: 0.4847 - val_precision_m: 0.5200 - val_recall_m: 0.4575\n",
      "Epoch 23/50\n",
      "88/88 [==============================] - 17s 192ms/step - loss: 1.9005e-04 - accuracy: 1.0000 - f1_m: 1.0000 - precision_m: 1.0000 - recall_m: 1.0000 - val_loss: 0.4393 - val_accuracy: 0.8500 - val_f1_m: 0.4847 - val_precision_m: 0.5200 - val_recall_m: 0.4575\n",
      "Epoch 24/50\n",
      "88/88 [==============================] - 17s 191ms/step - loss: 1.7868e-04 - accuracy: 1.0000 - f1_m: 1.0000 - precision_m: 1.0000 - recall_m: 1.0000 - val_loss: 0.4407 - val_accuracy: 0.8500 - val_f1_m: 0.4847 - val_precision_m: 0.5200 - val_recall_m: 0.4575\n",
      "Epoch 25/50\n",
      "88/88 [==============================] - 17s 191ms/step - loss: 1.5568e-04 - accuracy: 1.0000 - f1_m: 1.0000 - precision_m: 1.0000 - recall_m: 1.0000 - val_loss: 0.4476 - val_accuracy: 0.8475 - val_f1_m: 0.4847 - val_precision_m: 0.5200 - val_recall_m: 0.4575\n",
      "Epoch 26/50\n",
      "88/88 [==============================] - 17s 194ms/step - loss: 1.4738e-04 - accuracy: 1.0000 - f1_m: 1.0000 - precision_m: 1.0000 - recall_m: 1.0000 - val_loss: 0.4475 - val_accuracy: 0.8500 - val_f1_m: 0.4847 - val_precision_m: 0.5200 - val_recall_m: 0.4575\n",
      "Epoch 27/50\n",
      "88/88 [==============================] - 17s 192ms/step - loss: 1.3179e-04 - accuracy: 1.0000 - f1_m: 1.0000 - precision_m: 1.0000 - recall_m: 1.0000 - val_loss: 0.4516 - val_accuracy: 0.8475 - val_f1_m: 0.4847 - val_precision_m: 0.5200 - val_recall_m: 0.4575\n",
      "Epoch 28/50\n",
      "88/88 [==============================] - 17s 192ms/step - loss: 1.2414e-04 - accuracy: 1.0000 - f1_m: 1.0000 - precision_m: 1.0000 - recall_m: 1.0000 - val_loss: 0.4550 - val_accuracy: 0.8475 - val_f1_m: 0.4847 - val_precision_m: 0.5200 - val_recall_m: 0.4575\n",
      "Epoch 29/50\n",
      "88/88 [==============================] - 17s 192ms/step - loss: 1.1186e-04 - accuracy: 1.0000 - f1_m: 1.0000 - precision_m: 1.0000 - recall_m: 1.0000 - val_loss: 0.4550 - val_accuracy: 0.8475 - val_f1_m: 0.4847 - val_precision_m: 0.5200 - val_recall_m: 0.4575\n",
      "Epoch 30/50\n",
      "88/88 [==============================] - 17s 192ms/step - loss: 1.0576e-04 - accuracy: 1.0000 - f1_m: 1.0000 - precision_m: 1.0000 - recall_m: 1.0000 - val_loss: 0.4582 - val_accuracy: 0.8475 - val_f1_m: 0.4847 - val_precision_m: 0.5200 - val_recall_m: 0.4575\n",
      "Epoch 31/50\n",
      "88/88 [==============================] - 17s 193ms/step - loss: 9.5579e-05 - accuracy: 1.0000 - f1_m: 1.0000 - precision_m: 1.0000 - recall_m: 1.0000 - val_loss: 0.4604 - val_accuracy: 0.8475 - val_f1_m: 0.4847 - val_precision_m: 0.5200 - val_recall_m: 0.4575\n",
      "Epoch 32/50\n",
      "88/88 [==============================] - 17s 194ms/step - loss: 9.2302e-05 - accuracy: 1.0000 - f1_m: 1.0000 - precision_m: 1.0000 - recall_m: 1.0000 - val_loss: 0.4629 - val_accuracy: 0.8475 - val_f1_m: 0.4847 - val_precision_m: 0.5200 - val_recall_m: 0.4575\n",
      "Epoch 33/50\n",
      "88/88 [==============================] - 17s 195ms/step - loss: 8.7952e-05 - accuracy: 1.0000 - f1_m: 1.0000 - precision_m: 1.0000 - recall_m: 1.0000 - val_loss: 0.4637 - val_accuracy: 0.8475 - val_f1_m: 0.4847 - val_precision_m: 0.5200 - val_recall_m: 0.4575\n",
      "Epoch 34/50\n",
      "88/88 [==============================] - 17s 192ms/step - loss: 7.8542e-05 - accuracy: 1.0000 - f1_m: 1.0000 - precision_m: 1.0000 - recall_m: 1.0000 - val_loss: 0.4672 - val_accuracy: 0.8475 - val_f1_m: 0.4847 - val_precision_m: 0.5200 - val_recall_m: 0.4575\n",
      "Epoch 35/50\n",
      "88/88 [==============================] - 17s 192ms/step - loss: 7.2959e-05 - accuracy: 1.0000 - f1_m: 1.0000 - precision_m: 1.0000 - recall_m: 1.0000 - val_loss: 0.4687 - val_accuracy: 0.8475 - val_f1_m: 0.4847 - val_precision_m: 0.5200 - val_recall_m: 0.4575\n",
      "Epoch 36/50\n",
      "88/88 [==============================] - 17s 193ms/step - loss: 6.7774e-05 - accuracy: 1.0000 - f1_m: 1.0000 - precision_m: 1.0000 - recall_m: 1.0000 - val_loss: 0.4711 - val_accuracy: 0.8475 - val_f1_m: 0.4847 - val_precision_m: 0.5200 - val_recall_m: 0.4575\n",
      "Epoch 37/50\n",
      "88/88 [==============================] - 17s 192ms/step - loss: 6.2892e-05 - accuracy: 1.0000 - f1_m: 1.0000 - precision_m: 1.0000 - recall_m: 1.0000 - val_loss: 0.4720 - val_accuracy: 0.8475 - val_f1_m: 0.4847 - val_precision_m: 0.5200 - val_recall_m: 0.4575\n",
      "Epoch 38/50\n",
      "88/88 [==============================] - 17s 194ms/step - loss: 5.7490e-05 - accuracy: 1.0000 - f1_m: 1.0000 - precision_m: 1.0000 - recall_m: 1.0000 - val_loss: 0.4747 - val_accuracy: 0.8475 - val_f1_m: 0.4847 - val_precision_m: 0.5200 - val_recall_m: 0.4575\n",
      "Epoch 39/50\n",
      "88/88 [==============================] - 17s 193ms/step - loss: 5.6748e-05 - accuracy: 1.0000 - f1_m: 1.0000 - precision_m: 1.0000 - recall_m: 1.0000 - val_loss: 0.4776 - val_accuracy: 0.8475 - val_f1_m: 0.4847 - val_precision_m: 0.5200 - val_recall_m: 0.4575\n",
      "Epoch 40/50\n",
      "88/88 [==============================] - 17s 194ms/step - loss: 5.1579e-05 - accuracy: 1.0000 - f1_m: 1.0000 - precision_m: 1.0000 - recall_m: 1.0000 - val_loss: 0.4796 - val_accuracy: 0.8475 - val_f1_m: 0.4847 - val_precision_m: 0.5200 - val_recall_m: 0.4575\n",
      "Epoch 41/50\n",
      "88/88 [==============================] - 17s 192ms/step - loss: 4.7072e-05 - accuracy: 1.0000 - f1_m: 1.0000 - precision_m: 1.0000 - recall_m: 1.0000 - val_loss: 0.4796 - val_accuracy: 0.8475 - val_f1_m: 0.4847 - val_precision_m: 0.5200 - val_recall_m: 0.4575\n",
      "Epoch 42/50\n",
      "88/88 [==============================] - 17s 192ms/step - loss: 4.4415e-05 - accuracy: 1.0000 - f1_m: 1.0000 - precision_m: 1.0000 - recall_m: 1.0000 - val_loss: 0.4822 - val_accuracy: 0.8475 - val_f1_m: 0.4847 - val_precision_m: 0.5200 - val_recall_m: 0.4575\n",
      "Epoch 43/50\n",
      "88/88 [==============================] - 17s 192ms/step - loss: 4.2253e-05 - accuracy: 1.0000 - f1_m: 1.0000 - precision_m: 1.0000 - recall_m: 1.0000 - val_loss: 0.4838 - val_accuracy: 0.8475 - val_f1_m: 0.4847 - val_precision_m: 0.5200 - val_recall_m: 0.4575\n",
      "Epoch 44/50\n",
      "88/88 [==============================] - 17s 192ms/step - loss: 3.9333e-05 - accuracy: 1.0000 - f1_m: 1.0000 - precision_m: 1.0000 - recall_m: 1.0000 - val_loss: 0.4857 - val_accuracy: 0.8475 - val_f1_m: 0.4847 - val_precision_m: 0.5200 - val_recall_m: 0.4575\n",
      "Epoch 45/50\n",
      "88/88 [==============================] - 17s 192ms/step - loss: 3.7309e-05 - accuracy: 1.0000 - f1_m: 1.0000 - precision_m: 1.0000 - recall_m: 1.0000 - val_loss: 0.4881 - val_accuracy: 0.8475 - val_f1_m: 0.4847 - val_precision_m: 0.5200 - val_recall_m: 0.4575\n",
      "Epoch 46/50\n",
      "88/88 [==============================] - 17s 194ms/step - loss: 3.5095e-05 - accuracy: 1.0000 - f1_m: 1.0000 - precision_m: 1.0000 - recall_m: 1.0000 - val_loss: 0.4910 - val_accuracy: 0.8475 - val_f1_m: 0.4847 - val_precision_m: 0.5200 - val_recall_m: 0.4575\n",
      "Epoch 47/50\n",
      "88/88 [==============================] - 17s 196ms/step - loss: 3.2435e-05 - accuracy: 1.0000 - f1_m: 1.0000 - precision_m: 1.0000 - recall_m: 1.0000 - val_loss: 0.4915 - val_accuracy: 0.8475 - val_f1_m: 0.4847 - val_precision_m: 0.5200 - val_recall_m: 0.4575\n",
      "Epoch 48/50\n",
      "88/88 [==============================] - 17s 193ms/step - loss: 3.1407e-05 - accuracy: 1.0000 - f1_m: 0.9997 - precision_m: 0.9997 - recall_m: 0.9997 - val_loss: 0.4938 - val_accuracy: 0.8475 - val_f1_m: 0.4847 - val_precision_m: 0.5200 - val_recall_m: 0.4575\n",
      "Epoch 49/50\n",
      "88/88 [==============================] - 17s 193ms/step - loss: 2.8814e-05 - accuracy: 1.0000 - f1_m: 1.0000 - precision_m: 1.0000 - recall_m: 1.0000 - val_loss: 0.4963 - val_accuracy: 0.8475 - val_f1_m: 0.4847 - val_precision_m: 0.5200 - val_recall_m: 0.4575\n",
      "Epoch 50/50\n",
      "88/88 [==============================] - 17s 193ms/step - loss: 2.7535e-05 - accuracy: 1.0000 - f1_m: 1.0000 - precision_m: 1.0000 - recall_m: 1.0000 - val_loss: 0.4977 - val_accuracy: 0.8475 - val_f1_m: 0.4847 - val_precision_m: 0.5200 - val_recall_m: 0.4575\n"
     ]
    },
    {
     "data": {
      "image/png": "[encoded data removed]",
      "text/plain": [
       "<Figure size 864x360 with 2 Axes>"
      ]
     },
     "metadata": {},
     "output_type": "display_data"
    }
   ],
   "source": [
    "clear_session()\n",
    "history = model.fit(X_train, y_train,\n",
    "                    epochs=50,\n",
    "                    verbose=True,\n",
    "                    validation_data=(X_test, y_test),\n",
    "                    batch_size=16)\n",
    "plot_history(history)"
   ]
  },
  {
   "cell_type": "code",
   "execution_count": 20,
   "metadata": {},
   "outputs": [],
   "source": [
    "loss, accuracy, f1_score, precision, recall = model.evaluate(X_test, y_test, verbose=0)"
   ]
  },
  {
   "cell_type": "code",
   "execution_count": 21,
   "metadata": {},
   "outputs": [
    {
     "name": "stdout",
     "output_type": "stream",
     "text": [
      "41.43114984035492 84.50000286102295 47.466060519218445 53.84615659713745 43.02884638309479\n"
     ]
    }
   ],
   "source": [
    "print(loss*100, accuracy*100, f1_score*100, precision*100, recall*100)"
   ]
  },
  {
   "cell_type": "code",
   "execution_count": 22,
   "metadata": {},
   "outputs": [
    {
     "name": "stdout",
     "output_type": "stream",
     "text": [
      "7/7 [==============================] - 1s 73ms/step\n",
      "              precision    recall  f1-score   support\n",
      "\n",
      "           0       0.50      1.00      0.67       200\n",
      "           1       0.00      0.00      0.00       200\n",
      "\n",
      "    accuracy                           0.50       400\n",
      "   macro avg       0.25      0.50      0.33       400\n",
      "weighted avg       0.25      0.50      0.33       400\n",
      "\n"
     ]
    },
    {
     "name": "stderr",
     "output_type": "stream",
     "text": [
      "C:\\Users\\cdwor\\anaconda3\\lib\\site-packages\\sklearn\\metrics\\_classification.py:1221: UndefinedMetricWarning: Precision and F-score are ill-defined and being set to 0.0 in labels with no predicted samples. Use `zero_division` parameter to control this behavior.\n",
      "  _warn_prf(average, modifier, msg_start, len(result))\n"
     ]
    }
   ],
   "source": [
    "from sklearn.metrics import classification_report\n",
    "\n",
    "y_pred = model.predict(X_test, batch_size=64, verbose=1)\n",
    "y_pred_bool = np.argmax(y_pred, axis=1)\n",
    "\n",
    "print(classification_report(y_test, y_pred_bool))"
   ]
  },
  {
   "cell_type": "code",
   "execution_count": null,
   "metadata": {},
   "outputs": [],
   "source": []
  },
  {
   "cell_type": "code",
   "execution_count": null,
   "metadata": {},
   "outputs": [],
   "source": []
  },
  {
   "cell_type": "code",
   "execution_count": null,
   "metadata": {},
   "outputs": [],
   "source": []
  }
 ],
 "metadata": {
  "kernelspec": {
   "display_name": "Python 3",
   "language": "python",
   "name": "python3"
  },
  "language_info": {
   "codemirror_mode": {
    "name": "ipython",
    "version": 3
   },
   "file_extension": ".py",
   "mimetype": "text/x-python",
   "name": "python",
   "nbconvert_exporter": "python",
   "pygments_lexer": "ipython3",
   "version": "3.8.5"
  }
 },
 "nbformat": 4,
 "nbformat_minor": 4
}
