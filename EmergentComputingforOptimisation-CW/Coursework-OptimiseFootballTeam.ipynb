{
 "cells": [
  {
   "cell_type": "code",
   "execution_count": 15,
   "metadata": {},
   "outputs": [
    {
     "name": "stdout",
     "output_type": "stream",
     "text": [
      "num possible players is 523\n"
     ]
    }
   ],
   "source": [
    "# THIS FUNCTION READS THE DATA FILE CONTAINING THE INFORMATION RE EACH PLAYER\n",
    "\n",
    "import pandas as pd\n",
    "\n",
    "# read data\n",
    "data = (pd.read_csv(\"clean-data.csv\")\n",
    "        .reset_index(drop=True))\n",
    "\n",
    "num_players = len(data.index)\n",
    "\n",
    "print(\"num possible players is %s\" % (num_players))\n"
   ]
  },
  {
   "cell_type": "code",
   "execution_count": null,
   "metadata": {},
   "outputs": [],
   "source": [
    "import numpy as np\n",
    "\n",
    "# HELPFUL DATA \n",
    "# these can be used for calculating points and costs and are also used in the constraint_checking function\n",
    "points = data['Points'] \n",
    "cost = data['Cost']\n",
    "    \n",
    "\n",
    "# create lists with all elements initialised to 0\n",
    "gk = np.zeros(num_players)\n",
    "mid = np.zeros(num_players)\n",
    "defe = np.zeros(num_players)\n",
    "stri = np.zeros(num_players)\n",
    "\n",
    "for i in range(num_players):\n",
    "    if data['Position'][i] == 'GK':\n",
    "        gk[i] = 1\n",
    "    elif data['Position'][i] == 'DEF':\n",
    "        defe[i] = 1\n",
    "    elif data['Position'][i] == 'MID':\n",
    "        mid[i] = 1\n",
    "    elif data['Position'][i] == 'STR':\n",
    "        stri[i]=1\n",
    "  "
   ]
  },
  {
   "cell_type": "code",
   "execution_count": null,
   "metadata": {},
   "outputs": [],
   "source": [
    "def check_constraints(individual):\n",
    "     \n",
    "    broken_constraints = 0\n",
    "\n",
    "    # exactly 11 players\n",
    "    c1 = np.sum(individual)\n",
    "    if  c1 != 11:\n",
    "        broken_constraints+=1\n",
    "        print(\"total players is %s \" %(c1))\n",
    "        \n",
    "    \n",
    "    #need cost <= 100\"\n",
    "    c2 = np.sum(np.multiply(cost, individual)) \n",
    "    if c2 > 100:\n",
    "        broken_constraints+=1\n",
    "        print(\"cost is %s \" %(c2))\n",
    "    \n",
    "    # need only 1 GK\n",
    "    c3 = np.sum(np.multiply(gk, individual))\n",
    "    if  c3 != 1:\n",
    "        broken_constraints+=1\n",
    "        print(\"goalies is %s \" %(c3))\n",
    "    \n",
    "    # need less than 3-5 DEF\"\n",
    "    c4 = np.sum(np.multiply(defe,individual))\n",
    "    if  c4 > 5 or c4 < 3:\n",
    "        broken_constraints+=1\n",
    "        print(\"DEFE is %s \" %(c4))\n",
    "            \n",
    "    #need 3- 5 MID\n",
    "    c5 = np.sum(np.multiply(mid,individual))\n",
    "    if  c5 > 5 or c5 < 3: \n",
    "        broken_constraints+=1\n",
    "        print(\"MID is %s \" %(c5))\n",
    "        \n",
    "    # need 1 -1 3 STR\"\n",
    "    c6 = np.sum(np.multiply(stri,individual))\n",
    "    if c6 > 3 or c6 < 1: \n",
    "        broken_constraints+=1\n",
    "        print(\"STR is %s \" %(c6))\n",
    "        \n",
    "    # get indices of players selected\n",
    "    selectedPlayers = [idx for idx, element in enumerate(individual) if element==1]\n",
    "    \n",
    "    totalpoints = np.sum(np.multiply(points, individual))\n",
    "        \n",
    "        \n",
    "    print(\"total broken constraints: %s\" %(broken_constraints))\n",
    "    print(\"total points: %s\" %(totalpoints))\n",
    "    print(\"total cost is %s\" %(c2))\n",
    "    print(\"selected players are %s\" %(selectedPlayers))\n",
    "    \n",
    "    return broken_constraints, totalpoints"
   ]
  },
  {
   "cell_type": "code",
   "execution_count": null,
   "metadata": {},
   "outputs": [],
   "source": [
    "\n",
    "import array\n",
    "import random\n",
    "import numpy\n",
    "import matplotlib\n",
    "import matplotlib.pyplot as plt\n",
    "\n",
    "\n",
    "# import deap packages required\n",
    "from deap import algorithms\n",
    "from deap import base\n",
    "from deap import creator\n",
    "from deap import tools\n",
    "import pandas as pd"
   ]
  },
  {
   "cell_type": "code",
   "execution_count": null,
   "metadata": {},
   "outputs": [],
   "source": [
    "\n",
    "MAX_COST = 100\n",
    "MAX_PLAYERS = 11\n",
    "\n",
    "MUTPB = 0.1\n",
    "CXPB = 0.7\n",
    "POPSIZE = 200\n",
    "NGEN=300\n",
    "TNSIZE=2\n",
    "\n",
    "\n",
    "\n",
    "TOTAL_COST =0\n",
    "for i in range(num_players):\n",
    "    TOTAL_COST += cost[i]\n",
    "\n",
    "TOTAL_POINTS =0\n",
    "for i in range(num_players):\n",
    "    TOTAL_POINTS += points[i]\n",
    "\n",
    "\n",
    "\n",
    "print(num_players, TOTAL_POINTS, TOTAL_COST)"
   ]
  },
  {
   "cell_type": "code",
   "execution_count": null,
   "metadata": {},
   "outputs": [],
   "source": [
    "def myInitialisationFunction(icls, size):\n",
    "\n",
    "    # first create an individual with all bits set to 0\n",
    "    ind = icls(numpy.zeros(size))\n",
    "    \n",
    "\n",
    "    current_cost=0\n",
    "    current_players=0\n",
    "    current_gk=0\n",
    "    current_defe=0\n",
    "    current_mid=0\n",
    "    current_stri=0\n",
    "    \n",
    "    \n",
    "    team_gk = 1\n",
    "    team_defe = random.randint(4,5)\n",
    "    team_mid = random.randint(3,4)\n",
    "    team_stri = 11 - (team_defe + team_mid + team_gk) #make sure the remainging spaces get filled up\n",
    "\n",
    "    \n",
    "    defe_range = list(range(0, 180))\n",
    "    mid_range = list(range(181, 376))\n",
    "    stri_range = list(range(377, 466))\n",
    "    gk_range = list(range(467, 523))\n",
    "    \n",
    "    random.shuffle(defe_range)\n",
    "    random.shuffle(mid_range)\n",
    "    random.shuffle(stri_range)\n",
    "    random.shuffle(gk_range)\n",
    "    \n",
    "    x = 0\n",
    "    while team_defe > 0:\n",
    "        player = defe_range[x]\n",
    "        new_cost = cost[player]\n",
    "        \n",
    "        if current_cost + new_cost <= MAX_COST:\n",
    "            ind[player] = 1\n",
    "            current_cost += new_cost\n",
    "            x += 1\n",
    "            team_defe -= 1\n",
    "            current_players += 1\n",
    "            current_defe += 1\n",
    "            \n",
    "    x = 0\n",
    "    while team_mid > 0:\n",
    "        player = mid_range[x]\n",
    "        new_cost = cost[player]\n",
    "        \n",
    "        if current_cost + new_cost <= MAX_COST:\n",
    "            ind[player] = 1\n",
    "            current_cost += new_cost\n",
    "            x += 1\n",
    "            team_mid -= 1\n",
    "            current_players += 1\n",
    "            current_mid += 1\n",
    "            \n",
    "    x = 0\n",
    "    while team_stri > 0:\n",
    "        player = stri_range[x]\n",
    "        new_cost = cost[player]\n",
    "        \n",
    "        if current_cost + new_cost <= MAX_COST:\n",
    "            ind[player] = 1\n",
    "            current_cost += new_cost\n",
    "            x += 1\n",
    "            team_stri -= 1\n",
    "            current_players += 1\n",
    "            current_stri += 1\n",
    "            \n",
    "    x = 0\n",
    "    while team_gk > 0:\n",
    "        player = gk_range[x]\n",
    "        new_cost = cost[player]\n",
    "        \n",
    "        if current_cost + new_cost <= MAX_COST:\n",
    "            ind[player] = 1\n",
    "            current_cost += new_cost\n",
    "            x += 1\n",
    "            team_gk -= 1\n",
    "            current_players += 1\n",
    "            current_gk += 1\n",
    "        \n",
    "\n",
    "    #print(\"team cost is %s, players is %s, gk=%s, def=%s, mid=%s, str=%s\" %(current_cost, current_players, current_gk, current_defe, current_mid, current_stri))\n",
    "    return ind"
   ]
  },
  {
   "cell_type": "code",
   "execution_count": null,
   "metadata": {},
   "outputs": [],
   "source": [
    "## SET UP THE EA\n",
    "    \n",
    "# define the fitness class and creare an individual class\n",
    "creator.create(\"FitnessMax\", base.Fitness, weights=(1.0,))\n",
    "creator.create(\"Individual\", list, fitness=creator.FitnessMax)\n",
    "\n",
    "\n",
    "# create a toolbox\n",
    "toolbox = base.Toolbox()\n",
    "\n",
    "# Attribute generator\n",
    "toolbox.register(\"attr_bool\", random.randint, 0, 1)\n",
    "\n",
    "# USE THIS LINE IF YOU WANT TO USE THE CUSTOM INIT FUNCTION\n",
    "toolbox.register(\"individual\", myInitialisationFunction, creator.Individual, num_players)\n",
    "\n",
    "#  a population consist of a list of individuals\n",
    "toolbox.register(\"population\", tools.initRepeat, list, toolbox.individual)\n"
   ]
  },
  {
   "cell_type": "code",
   "execution_count": null,
   "metadata": {},
   "outputs": [],
   "source": [
    "# DEFINE FITNESS FOR KNAPSACK\n",
    "# fitness function definition - death penalty\n",
    "\n",
    "def evalTeam(individual):\n",
    "    \n",
    "    current_cost = 0\n",
    "    current_point = 0.0\n",
    "    current_players = 0\n",
    "    current_gk = 0\n",
    "    current_def = 0\n",
    "    current_mid = 0\n",
    "    current_str = 0\n",
    "    \n",
    "    for player in range(num_players):\n",
    "        if (individual[player]==1):\n",
    "            current_cost += cost[player]\n",
    "            current_point += points[player]\n",
    "            current_players += 1\n",
    "            \n",
    "            if gk[player]==1:\n",
    "                current_gk += 1  \n",
    "            elif defe[player]==1:\n",
    "                current_def += 1      \n",
    "            elif mid[player]==1:\n",
    "                current_mid += 1       \n",
    "            elif stri[player]==1:\n",
    "                current_str += 1\n",
    "                \n",
    "    if  current_cost > MAX_COST or current_players != MAX_PLAYERS or current_gk != 1 or current_def not in range(1, 5) or current_mid not in range(1,5) or current_str not in range(1,3):\n",
    "        return 0,\n",
    "    \n",
    "    return  current_point,"
   ]
  },
  {
   "cell_type": "code",
   "execution_count": null,
   "metadata": {},
   "outputs": [],
   "source": [
    "# register all operators we need with the toolbox\n",
    "toolbox.register(\"evaluate\", evalTeam)\n",
    "\n",
    "#toolbox.register(\"mate\", tools.cxUniform, indpb=0.1)\n",
    "toolbox.register(\"mate\", tools.cxOnePoint)\n",
    "#toolbox.register(\"mate\", tools.cxTwoPoint)\n",
    "\n",
    "#toolbox.register(\"mutate\", tools.mutFlipBit, indpb=0.05)\n",
    "toolbox.register(\"mutate\", tools.mutShuffleIndexes, indpb=0.05)\n",
    "\n",
    "toolbox.register(\"select\", tools.selTournament, tournsize=TNSIZE)\n",
    "#toolbox.register(\"select\", tools.selRoulette)"
   ]
  },
  {
   "cell_type": "code",
   "execution_count": null,
   "metadata": {},
   "outputs": [],
   "source": [
    "# create an dataframe that has 3 columns to record the important data from each run\n",
    "column_names = ['popsize', 'fitness', 'genMaxFound']\n",
    "df = pd.DataFrame(columns = column_names)"
   ]
  },
  {
   "cell_type": "code",
   "execution_count": null,
   "metadata": {},
   "outputs": [],
   "source": [
    "# main function\n",
    "\n",
    "def main():\n",
    "    \n",
    "    # choose a population size: e.g. 200\n",
    "    pop = toolbox.population(n=POPSIZE)\n",
    "    \n",
    "    # keep track of the single best solution found\n",
    "    hof = tools.HallOfFame(1)\n",
    " \n",
    "    # create a statistics object: we can log what ever statistics we want using this. We use the numpy Python library\n",
    "    # to calculate the stats and label them with convenient labels\n",
    "    stats = tools.Statistics(lambda ind: ind.fitness.values)\n",
    "    stats.register(\"avg\", numpy.mean)\n",
    "    stats.register(\"std\", numpy.std)\n",
    "    stats.register(\"min\", numpy.min)\n",
    "    stats.register(\"max\", numpy.max)\n",
    "    \n",
    "    # run the algorithm: we need to tell it what parameters to use\n",
    "    # cxpb = crossover probability; mutpb = mutation probability; ngen = number of iterations\n",
    "    pop, log = algorithms.eaSimple(pop, toolbox, cxpb=CXPB, mutpb=MUTPB, ngen=NGEN, \n",
    "                                   stats=stats, halloffame=hof, verbose=True)\n",
    "    \n",
    "    return pop, log, hof\n",
    "\n",
    "\n",
    "# ##############################\n",
    "# # run the main function \n",
    "# pop, log, hof = main()\n",
    "\n",
    "# ##############################\n",
    "\n",
    "\n",
    "# best = hof[0].fitness.values[0]   # best fitness found is stored at index 0 in the hof list\n",
    "\n",
    "\n",
    "# # look in the logbook to see what generation this was found at\n",
    "\n",
    "# max = log.select(\"max\")  # max fitness per generation stored in log\n",
    "\n",
    "# for i in range(NGEN):  # set to ngen\n",
    "#         fit = max[i]\n",
    "#         if fit == best:\n",
    "#             break      \n",
    "            \n",
    "# df = df.append({'popsize': POPSIZE , 'fitness': best, 'genMaxFound':i}, ignore_index=True)\n",
    "        \n",
    "# print(\"max fitness found is %s at generation %s\" % (best, i))"
   ]
  },
  {
   "cell_type": "code",
   "execution_count": null,
   "metadata": {},
   "outputs": [],
   "source": [
    "df"
   ]
  },
  {
   "cell_type": "code",
   "execution_count": null,
   "metadata": {},
   "outputs": [],
   "source": [
    "\n",
    "# code for plotting\n",
    "\n",
    "gen = log.select(\"gen\")\n",
    "fit_max = log.select(\"max\")\n",
    "fit_min = log.select(\"min\")\n",
    "fit_avg = log.select(\"avg\")\n",
    "\n",
    "fig, ax1 = plt.subplots()\n",
    "line1 = ax1.plot(gen, fit_max, \"b-\", label=\"max Fitness\", color=\"r\")\n",
    "line2 = ax1.plot(gen, fit_min, \"b-\", label=\"min Fitness\", color=\"b\")\n",
    "line3 = ax1.plot(gen , fit_avg, \"b-\", label=\"avg Fitness\", color=\"g\")\n",
    "ax1.set_xlabel(\"Generations\")\n",
    "ax1.set_ylabel(\"Fitness\", color=\"b\")\n",
    "for tl in ax1.get_yticklabels():\n",
    "    tl.set_color(\"b\")\n",
    "ax1.set_ylim(12000000,14000000)\n",
    "    \n",
    "lns = line1+line2+line3\n",
    "labs = [l.get_label() for l in lns]\n",
    "ax1.legend(lns, labs, loc=\"center right\")\n"
   ]
  },
  {
   "cell_type": "code",
   "execution_count": null,
   "metadata": {},
   "outputs": [],
   "source": [
    "individual = []\n",
    "\n",
    "for i in hof:\n",
    "    for p in i:\n",
    "        if p == 0.0:\n",
    "            individual.append(0)\n",
    "        elif p == 1:\n",
    "            individual.append(1)\n",
    "\n",
    "\n",
    "\n",
    "check_constraints(individual)"
   ]
  },
  {
   "cell_type": "markdown",
   "metadata": {},
   "source": [
    "# Experiment:  test POPSIZE from 50-150 in steps of 10"
   ]
  },
  {
   "cell_type": "code",
   "execution_count": null,
   "metadata": {},
   "outputs": [],
   "source": [
    "# Experiment:  test POPSIZE from 50-150 in steps of 10\n",
    "\n",
    "\n",
    "# create an dataframe that has 3 columns to record the important data from each run\n",
    "column_names = ['popsize', 'fitness', 'genMaxFound']\n",
    "df = pd.DataFrame(columns = column_names)\n",
    "\n",
    "\n",
    "for  POPSIZE in range(500, 1501, 500):\n",
    "        # repeat EA 10x for each parameter\n",
    "        \n",
    "        print('POPSIZE = ', POPSIZE)\n",
    "        \n",
    "        for reps in range(5):\n",
    "            print('REP = ', reps)\n",
    "            pop,log,hof = main()\n",
    "            # extract the best fitness\n",
    "            best = hof[0].fitness.values[0]\n",
    "            # save the generation this fitness was first found\n",
    "            max = log.select('max')\n",
    "            for gen in range(NGEN):  \n",
    "                if max[gen] == best:\n",
    "                    break   \n",
    "            \n",
    "         \n",
    "            df = df.append({'popsize': POPSIZE , 'fitness': best, 'genMaxFound':gen}, ignore_index=True)"
   ]
  },
  {
   "cell_type": "code",
   "execution_count": null,
   "metadata": {},
   "outputs": [],
   "source": [
    "df"
   ]
  },
  {
   "cell_type": "code",
   "execution_count": null,
   "metadata": {},
   "outputs": [],
   "source": [
    "# code for printing statistics and plots\n",
    "print(df.groupby('popsize').mean())\n",
    "print(df.groupby('popsize').median())\n",
    "print(df.groupby('popsize').std())\n",
    "\n",
    "# plot the boxplot of fitness per population size\n",
    "boxplot = df.boxplot(column=['fitness'], by=['popsize'])\n",
    "\n",
    "# plot genMaxFound per population size\n",
    "boxplot = df.boxplot(column=['genMaxFound'], by=['popsize'])"
   ]
  },
  {
   "cell_type": "code",
   "execution_count": null,
   "metadata": {},
   "outputs": [],
   "source": [
    "from scipy.stats import mannwhitneyu\n",
    "from scipy.stats import ttest_ind\n",
    "from scipy.stats import shapiro\n",
    "\n",
    "# select two subsets of fitness data, one where popsize = 50 and the other where popsize = 150\n",
    "p50 = df.fitness[df.popsize == 50.0]\n",
    "p150= df.genMaxFound[df.popsize == 150.0]\n",
    "\n",
    "# we need to convert these subsets to lists to pass to the statistics functions\n",
    "p50l= p50.tolist()\n",
    "p150l = p150.tolist()\n",
    "\n",
    "# check for normality\n",
    "stat,p = shapiro(p50l)\n",
    "print('normality p=%f' %(p))"
   ]
  },
  {
   "cell_type": "code",
   "execution_count": null,
   "metadata": {},
   "outputs": [],
   "source": [
    "#now apply the  appropriate statistical test depending on the result of the above\n",
    "stat,p = ttest_ind(p50l,p150l)\n",
    "#stat,p = mannwhitneyu(p50l,p150l)\n",
    "\n",
    "print('p=%f' %(p))"
   ]
  },
  {
   "cell_type": "markdown",
   "metadata": {},
   "source": [
    "# Experiment:  test MUTPB from 0 to 1 in steps of 0.2"
   ]
  },
  {
   "cell_type": "code",
   "execution_count": null,
   "metadata": {},
   "outputs": [],
   "source": [
    "# create an dataframe that has 3 columns to record the important data from each run\n",
    "column_names = ['mutpb', 'fitness', 'genMaxFound']\n",
    "df = pd.DataFrame(columns = column_names)\n",
    "\n",
    "\n",
    "for  MUTPB in numpy.arange(0.0, 1.2, 0.2):\n",
    "        # repeat EA 10x for each parameter\n",
    "        print('MUTPB = ', MUTPB)\n",
    "        \n",
    "        for reps in range(5):\n",
    "            print('REP = ', reps)\n",
    "            pop,log,hof = main()\n",
    "            # extract the best fitness\n",
    "            best = hof[0].fitness.values[0]\n",
    "            # save the generation this fitness was first found\n",
    "            max = log.select('max')\n",
    "            for gen in range(NGEN):  \n",
    "                if max[gen] == best:\n",
    "                    break   \n",
    "            \n",
    "         \n",
    "            df = df.append({'mutpb': MUTPB , 'fitness': best, 'genMaxFound':gen}, ignore_index=True)"
   ]
  },
  {
   "cell_type": "code",
   "execution_count": null,
   "metadata": {},
   "outputs": [],
   "source": [
    "df"
   ]
  },
  {
   "cell_type": "code",
   "execution_count": null,
   "metadata": {},
   "outputs": [],
   "source": [
    "# code for printing statistics and plots\n",
    "print(df.groupby('mutpb').mean())\n",
    "print(df.groupby('mutpb').median())\n",
    "print(df.groupby('mutpb').std())\n",
    "\n",
    "# plot the boxplot of fitness per population size\n",
    "boxplot = df.boxplot(column=['fitness'], by=['mutpb'])\n",
    "\n",
    "# plot genMaxFound per population size\n",
    "boxplot = df.boxplot(column=['genMaxFound'], by=['mutpb'])"
   ]
  },
  {
   "cell_type": "code",
   "execution_count": null,
   "metadata": {},
   "outputs": [],
   "source": [
    "from scipy.stats import mannwhitneyu\n",
    "from scipy.stats import ttest_ind\n",
    "from scipy.stats import shapiro\n",
    "\n",
    "# select two subsets of fitness data, one where popsize = 50 and the other where popsize = 150\n",
    "m04 = df.fitness[df.mutpb == 0.4]\n",
    "m08 = df.genMaxFound[df.mutpb == 0.8]\n",
    "\n",
    "# we need to convert these subsets to lists to pass to the statistics functions\n",
    "m04l= m04.tolist()\n",
    "m08l = m08.tolist()\n",
    "\n",
    "# check for normality\n",
    "stat,p = shapiro(m04l)\n",
    "print('normality p=%f' %(p))"
   ]
  },
  {
   "cell_type": "code",
   "execution_count": null,
   "metadata": {},
   "outputs": [],
   "source": [
    "#now apply the  appropriate statistical test depending on the result of the above\n",
    "#stat,p = ttest_ind(m04l,m08l)\n",
    "stat,p = mannwhitneyu(m04l,m08l)\n",
    "\n",
    "print('p=%f' %(p))"
   ]
  },
  {
   "cell_type": "markdown",
   "metadata": {},
   "source": [
    "# Experiment:  Test Crossover cxOnePoint/cxTwoPoint/cxUniform"
   ]
  },
  {
   "cell_type": "code",
   "execution_count": null,
   "metadata": {},
   "outputs": [],
   "source": [
    "column_names = ['crossover', 'fitness', 'genMaxFound']\n",
    "df3 = pd.DataFrame(columns = column_names)"
   ]
  },
  {
   "cell_type": "code",
   "execution_count": null,
   "metadata": {},
   "outputs": [],
   "source": [
    "for reps in range(5):\n",
    "    pop,log,hof = main()\n",
    "    # extract the best fitness\n",
    "    best = hof[0].fitness.values[0]\n",
    "    # save the generation this fitness was first found\n",
    "    max = log.select('max')\n",
    "    for gen in range(NGEN):  \n",
    "        if max[gen] == best:\n",
    "            break   \n",
    "            \n",
    "         \n",
    "    df3 = df3.append({'crossover': 'cxTwoPoint' , 'fitness': best, 'genMaxFound':gen}, ignore_index=True)"
   ]
  },
  {
   "cell_type": "code",
   "execution_count": null,
   "metadata": {},
   "outputs": [],
   "source": [
    "df3"
   ]
  },
  {
   "cell_type": "code",
   "execution_count": null,
   "metadata": {},
   "outputs": [],
   "source": [
    "# code for printing statistics and plots\n",
    "print(df.groupby('crossover').mean())\n",
    "print(df.groupby('crossover').median())\n",
    "print(df.groupby('crossover').std())\n",
    "\n",
    "# plot the boxplot of fitness per population size\n",
    "boxplot = df.boxplot(column=['fitness'], by=['crossover'])\n",
    "\n",
    "# plot genMaxFound per population size\n",
    "boxplot = df.boxplot(column=['genMaxFound'], by=['crossover'])"
   ]
  },
  {
   "cell_type": "code",
   "execution_count": null,
   "metadata": {},
   "outputs": [],
   "source": [
    "from scipy.stats import mannwhitneyu\n",
    "from scipy.stats import ttest_ind\n",
    "from scipy.stats import shapiro\n",
    "\n",
    "# select two subsets of fitness data, one where popsize = 50 and the other where popsize = 150\n",
    "cOne = df.fitness[df.crossover == 'cxOnePoint']\n",
    "cUni = df.genMaxFound[df.crossover == 'cxUniform']\n",
    "\n",
    "# we need to convert these subsets to lists to pass to the statistics functions\n",
    "cOnel= cOne.tolist()\n",
    "cUnil = cUni.tolist()\n",
    "\n",
    "# check for normality\n",
    "stat,p = shapiro(cOnel)\n",
    "print('normality p=%f' %(p))"
   ]
  },
  {
   "cell_type": "code",
   "execution_count": null,
   "metadata": {},
   "outputs": [],
   "source": [
    "#now apply the  appropriate statistical test depending on the result of the above\n",
    "stat,p = ttest_ind(cOnel,cUnil)\n",
    "#stat,p = mannwhitneyu(p50l,p150l)\n",
    "\n",
    "print('p=%f' %(p))"
   ]
  },
  {
   "cell_type": "markdown",
   "metadata": {},
   "source": [
    "# Experiment:  Test Tournament Size 2/4/6/8"
   ]
  },
  {
   "cell_type": "code",
   "execution_count": null,
   "metadata": {},
   "outputs": [],
   "source": [
    "column_names = ['tournSize', 'fitness', 'genMaxFound']\n",
    "df4 = pd.DataFrame(columns = column_names)"
   ]
  },
  {
   "cell_type": "code",
   "execution_count": null,
   "metadata": {},
   "outputs": [],
   "source": [
    "for TNSIZE in range(2, 11, 4):\n",
    "    print('TNSIZE', TNSIZE)\n",
    "    for reps in range(5):\n",
    "        print('reps', reps)\n",
    "        pop,log,hof = main()\n",
    "        # extract the best fitness\n",
    "        best = hof[0].fitness.values[0]\n",
    "        # save the generation this fitness was first found\n",
    "        max = log.select('max')\n",
    "        for gen in range(NGEN):  \n",
    "            if max[gen] == best:\n",
    "                break   \n",
    "            \n",
    "         \n",
    "    df4 = df4.append({'tournSize': TNSIZE , 'fitness': best, 'genMaxFound':gen}, ignore_index=True)"
   ]
  },
  {
   "cell_type": "code",
   "execution_count": null,
   "metadata": {},
   "outputs": [],
   "source": [
    "df4"
   ]
  },
  {
   "cell_type": "code",
   "execution_count": null,
   "metadata": {},
   "outputs": [],
   "source": [
    "# code for printing statistics and plots\n",
    "print(df4.groupby('tournSize').mean())\n",
    "print(df4.groupby('tournSize').median())\n",
    "print(df4.groupby('tournSize').std())\n",
    "\n",
    "# plot the boxplot of fitness per population size\n",
    "boxplot = df4.boxplot(column=['fitness'], by=['tournSize'])\n",
    "\n",
    "# plot genMaxFound per population size\n",
    "boxplot = df4.boxplot(column=['genMaxFound'], by=['tournSize'])"
   ]
  },
  {
   "cell_type": "code",
   "execution_count": null,
   "metadata": {},
   "outputs": [],
   "source": [
    "from scipy.stats import mannwhitneyu\n",
    "from scipy.stats import ttest_ind\n",
    "from scipy.stats import shapiro\n",
    "\n",
    "# select two subsets of fitness data, one where popsize = 50 and the other where popsize = 150\n",
    "cOne = df4.fitness[df.crossover == 'cxOnePoint']\n",
    "cUni = df4.genMaxFound[df.crossover == 'cxUniform']\n",
    "\n",
    "# we need to convert these subsets to lists to pass to the statistics functions\n",
    "cOnel= cOne.tolist()\n",
    "cUnil = cUni.tolist()\n",
    "\n",
    "# check for normality\n",
    "stat,p = shapiro(cOnel)\n",
    "print('normality p=%f' %(p))"
   ]
  },
  {
   "cell_type": "code",
   "execution_count": null,
   "metadata": {},
   "outputs": [],
   "source": [
    "#now apply the  appropriate statistical test depending on the result of the above\n",
    "stat,p = ttest_ind(cOnel,cUnil)\n",
    "#stat,p = mannwhitneyu(p50l,p150l)\n",
    "\n",
    "print('p=%f' %(p))"
   ]
  },
  {
   "cell_type": "markdown",
   "metadata": {},
   "source": [
    "# Experiment:  Test Selection Operator"
   ]
  },
  {
   "cell_type": "code",
   "execution_count": null,
   "metadata": {},
   "outputs": [],
   "source": [
    "column_names = ['selOp', 'fitness', 'genMaxFound']\n",
    "df5 = pd.DataFrame(columns = column_names)"
   ]
  },
  {
   "cell_type": "code",
   "execution_count": null,
   "metadata": {},
   "outputs": [],
   "source": [
    "for reps in range(5):\n",
    "    print('reps', reps)\n",
    "    pop,log,hof = main()\n",
    "    # extract the best fitness\n",
    "    best = hof[0].fitness.values[0]\n",
    "    # save the generation this fitness was first found\n",
    "    max = log.select('max')\n",
    "    for gen in range(NGEN):  \n",
    "        if max[gen] == best:\n",
    "            break   \n",
    "            \n",
    "         \n",
    "    df5 = df5.append({'selOp': 'Roullete' , 'fitness': best, 'genMaxFound':gen}, ignore_index=True)"
   ]
  },
  {
   "cell_type": "code",
   "execution_count": null,
   "metadata": {},
   "outputs": [],
   "source": [
    "df5"
   ]
  },
  {
   "cell_type": "code",
   "execution_count": null,
   "metadata": {},
   "outputs": [],
   "source": [
    "# code for printing statistics and plots\n",
    "print(df5.groupby('selOp').mean())\n",
    "print(df5.groupby('selOp').median())\n",
    "print(df5.groupby('selOp').std())\n",
    "\n",
    "# plot the boxplot of fitness per population size\n",
    "boxplot = df5.boxplot(column=['fitness'], by=['selOp'])\n",
    "\n",
    "# plot genMaxFound per population size\n",
    "boxplot = df5.boxplot(column=['genMaxFound'], by=['selOp'])"
   ]
  },
  {
   "cell_type": "code",
   "execution_count": null,
   "metadata": {},
   "outputs": [],
   "source": [
    "from scipy.stats import mannwhitneyu\n",
    "from scipy.stats import ttest_ind\n",
    "from scipy.stats import shapiro\n",
    "\n",
    "# select two subsets of fitness data, one where popsize = 50 and the other where popsize = 150\n",
    "tour = df5.fitness[df5.selOp == 'Tournament']\n",
    "roul = df5.genMaxFound[df5.selOp == 'Roullete']\n",
    "\n",
    "# we need to convert these subsets to lists to pass to the statistics functions\n",
    "tourL= tour.tolist()\n",
    "roulL = roul.tolist()\n",
    "\n",
    "# check for normality\n",
    "stat,p = shapiro(tourL)\n",
    "print('normality p=%f%%' %(p*100))"
   ]
  },
  {
   "cell_type": "code",
   "execution_count": null,
   "metadata": {},
   "outputs": [],
   "source": [
    "#now apply the  appropriate statistical test depending on the result of the above\n",
    "#stat,p = ttest_ind(tourL,roulL)\n",
    "stat,p = mannwhitneyu(tourL,roulL)\n",
    "\n",
    "print('p=%f%%' %(p*100))"
   ]
  },
  {
   "cell_type": "markdown",
   "metadata": {},
   "source": [
    "# Code to read in saved solution\n",
    "\n",
    "**You only need this code if you have written your coursework using another language and need to check the saved solution. Otherwise, ignore this section**\n",
    "\n",
    "The code below expects you have saved you solution to a csv file. The file should contain 523 rows, each of which has a single value  set to 0 or 1.\n",
    "\n",
    "\n",
    "Once you have read in your data, you will need to:\n",
    "- read in the data file with the player information\n",
    "- run the code in the cell above to create the lists cost/points/gk/defe/mid/stri\n",
    "- run the check_constraints function passing the \"individual\" read from your file using the code below"
   ]
  },
  {
   "cell_type": "code",
   "execution_count": null,
   "metadata": {},
   "outputs": [],
   "source": [
    "import csv\n",
    "\n",
    "with open('pathtofile/mysolution.csv') as csvfile:\n",
    "    readCSV = csv.reader(csvfile, delimiter=',')\n",
    "    individual = []\n",
    "    for row in readCSV:\n",
    "        value=row[0]\n",
    "        individual.append(int(value))\n",
    "\n",
    "print(individual)\n",
    "\n",
    "# check length\n",
    "num_players = len(individual.index)\n",
    "\n",
    "if num_players != 523:\n",
    "    print(\"the solution file does not contain the correct number of variables\")\n",
    "    \n"
   ]
  },
  {
   "cell_type": "code",
   "execution_count": null,
   "metadata": {},
   "outputs": [],
   "source": []
  }
 ],
 "metadata": {
  "kernelspec": {
   "display_name": "Python 3",
   "language": "python",
   "name": "python3"
  },
  "language_info": {
   "codemirror_mode": {
    "name": "ipython",
    "version": 3
   },
   "file_extension": ".py",
   "mimetype": "text/x-python",
   "name": "python",
   "nbconvert_exporter": "python",
   "pygments_lexer": "ipython3",
   "version": "3.8.3"
  }
 },
 "nbformat": 4,
 "nbformat_minor": 4
}
